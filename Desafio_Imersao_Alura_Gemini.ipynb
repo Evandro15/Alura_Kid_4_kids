{
  "cells": [
    {
      "cell_type": "markdown",
      "metadata": {
        "id": "iB1TQXfgxWIZ"
      },
      "source": [
        "O projeto é desenhado pensando em uma rotina de consumo e ensino de contação de histórias para crianças.\n",
        "\n",
        "Tem como objetivo ajudar a crinaça na criação do próprio conteúdo através de gravação de um vídeo.\n",
        "\n",
        "```\n",
        "A criança a partir do vídeo gravado (de 30 segundo a 1 minuto) terá como retorno sua história publicada.\n",
        "Haverá a melhoria da mesma com base no contexto narrado, trazendo inclusive considerações sobre os pontos principais da obra.\n",
        "\n",
        "Dentro do material também virá uma recomendação de livros (com base em um universo bem definido no momento da confecção deste trabalho)\n",
        "\n",
        "Dentro deste material também virá uma comparação entre ambas as obras, para a criança entender aonde ela pode chegar com a criatividade.\n",
        "\n",
        "Prezo que os pequenos ganhem uma ferrmanta que os ajude a ter histórias autorais e peguem gosto por novas obras e fomentem o gosto pela leitura\n",
        "```\n",
        "\n"
      ]
    },
    {
      "cell_type": "markdown",
      "metadata": {
        "id": "c3HkcAwZnR1j"
      },
      "source": [
        "Instalação das dependências para execução do projeto\n"
      ]
    },
    {
      "cell_type": "code",
      "execution_count": null,
      "metadata": {
        "colab": {
          "base_uri": "https://localhost:8080/"
        },
        "id": "L_n1lsG61Bts",
        "outputId": "9a7e8ce7-d36a-4e98-d345-0fad734e10e5"
      },
      "outputs": [],
      "source": [
        "!pip install -q -U google-generativeai\n",
        "!pip install moviepy\n",
        "!pip install --upgrade pip\n",
        "!pip install --upgrade python-docx markdown\n",
        "!pip install docx\n",
        "!pip install beautifulsoup4"
      ]
    },
    {
      "cell_type": "markdown",
      "metadata": {
        "id": "kR2Nz0l2nmqh"
      },
      "source": [
        "Definições iniciais do Google Gemini\n"
      ]
    },
    {
      "cell_type": "code",
      "execution_count": null,
      "metadata": {
        "colab": {
          "base_uri": "https://localhost:8080/"
        },
        "id": "p7gXiM1VrVLp",
        "outputId": "cbea6e73-12c2-47ac-f960-27c195fa0730"
      },
      "outputs": [],
      "source": [
        "import os\n",
        "url = \"\"\n",
        "while not os.path.exists(url):\n",
        "  url = input('Faça o upload do seu vídeo de 45 segundos antes de prosseguir, e depois digite a URL ou o caminho dentro do colab  no campo a seguir')\n",
        "\n",
        "  if os.path.exists(url):\n",
        "    print(\"O arquivo existe.\")\n",
        "  else:\n",
        "    print(\"O arquivo não existe, ajuste e tente novamente.\")\n",
        "  mp4_file = url\n",
        "\n"
      ]
    },
    {
      "cell_type": "code",
      "execution_count": null,
      "metadata": {
        "id": "BNImRwUL0msW"
      },
      "outputs": [],
      "source": [
        "import numpy as np\n",
        "import pandas as pd\n",
        "import google.generativeai as genai\n",
        "#from google.colab import userdata\n",
        "\n",
        "#GOOGLE_API_KEY=userdata.get('GOOGLE_API_KEY')\n",
        "GOOGLE_API_KEY=\"\"\n",
        "genai.configure(api_key=GOOGLE_API_KEY)"
      ]
    },
    {
      "cell_type": "markdown",
      "metadata": {
        "id": "m0JmizbhnzOV"
      },
      "source": [
        "Etapa de Scrapping\n",
        "\n",
        "```\n",
        "# Este código navega para https://www.todamateria.com.br para extrair uma lista de resenhas de livros.\n",
        "# Esta resenhas serão utilizadas para compor o embbeding de onde faremos as recomendações de similaridades entre a história do Autor e livros famosos constantes nesse universo bem definido\n",
        "```\n",
        "\n"
      ]
    },
    {
      "cell_type": "code",
      "execution_count": null,
      "metadata": {
        "id": "azse8slvvjpN"
      },
      "outputs": [],
      "source": [
        "import requests\n",
        "from lxml import html\n",
        "\n",
        "def extrair_links(url):\n",
        "  \"\"\"Extrai todos os links da página usando XPath.\"\"\"\n",
        "  response = requests.get(url)\n",
        "  tree = html.fromstring(response.content)\n",
        "  try:\n",
        "    links = tree.xpath('/html/body/div[3]/div[2]/div[1]/div/a/@href')\n",
        "  except:\n",
        "    pass\n",
        "  return [\"https://www.todamateria.com.br\" + link for link in links if link]\n",
        "\n",
        "def extrair_dados(url):\n",
        "  \"\"\"Extrai título e texto completo da página do livro usando XPath.\"\"\"\n",
        "  titulo = \"\"\n",
        "  texto_completo = \"\"\n",
        "  response = requests.get(url)\n",
        "  tree = html.fromstring(response.content)\n",
        "  try:\n",
        "    titulo = tree.xpath('//*[@id=\"article\"]/div/h1/text()')[0].strip()\n",
        "  except:\n",
        "    pass\n",
        "\n",
        "  # Extrair o texto de todos os parágrafos\n",
        "  paragrafos = tree.xpath('//*[@id=\"article\"]/div/p')\n",
        "  texto_completo = \"\"\n",
        "  for p in paragrafos:\n",
        "    texto_completo += p.text_content().strip() + \"\\n\"\n",
        "\n",
        "  return titulo, texto_completo"
      ]
    },
    {
      "cell_type": "markdown",
      "metadata": {
        "id": "ZXzsiHrYofnv"
      },
      "source": [
        "Extração de dados baseadas nas funções acima"
      ]
    },
    {
      "cell_type": "code",
      "execution_count": null,
      "metadata": {
        "id": "j0SIkd6yv07N"
      },
      "outputs": [],
      "source": [
        "url = \"https://www.todamateria.com.br/resumos-de-livros/\"\n",
        "# Extrair links da página principal\n",
        "links_livros = extrair_links(url)\n"
      ]
    },
    {
      "cell_type": "code",
      "execution_count": null,
      "metadata": {
        "colab": {
          "base_uri": "https://localhost:8080/"
        },
        "id": "e15xEo3BUp10",
        "outputId": "72473d8d-694b-4ccf-82b8-51c48e690fa1"
      },
      "outputs": [],
      "source": [
        "links_livros\n"
      ]
    },
    {
      "cell_type": "markdown",
      "metadata": {
        "id": "v-v3hh2SoqJy"
      },
      "source": [
        "Definições do modelo a ser utilizado"
      ]
    },
    {
      "cell_type": "code",
      "execution_count": null,
      "metadata": {
        "id": "kL8izKeM7VLG"
      },
      "outputs": [],
      "source": [
        "safety_settings={\n",
        "    'HATE': 'BLOCK_NONE',\n",
        "    'HARASSMENT': 'BLOCK_NONE',\n",
        "    'SEXUAL' : 'BLOCK_NONE',\n",
        "    'DANGEROUS' : 'BLOCK_NONE'\n",
        "    }\n",
        "generation_config = {\n",
        "  \"candidate_count\": 1,\n",
        "  \"temperature\": 0.4,\n",
        "}"
      ]
    },
    {
      "cell_type": "markdown",
      "metadata": {
        "id": "7gqEBJkjo8XT"
      },
      "source": [
        "Modelos Disponíveis"
      ]
    },
    {
      "cell_type": "code",
      "execution_count": null,
      "metadata": {
        "id": "cXDHddSK1f8y"
      },
      "outputs": [],
      "source": [
        "for m in genai.list_models():\n",
        "  if 'embedContent' in m.supported_generation_methods:\n",
        "    print(m.name)"
      ]
    },
    {
      "cell_type": "markdown",
      "metadata": {
        "id": "cWjUAUasphI0"
      },
      "source": [
        "Modelo configurado para fazer o resumo dos conteudo dos livros que serão \"embedados\""
      ]
    },
    {
      "cell_type": "code",
      "execution_count": null,
      "metadata": {
        "id": "aL1czsTS4oLM"
      },
      "outputs": [],
      "source": [
        "model = genai.GenerativeModel(model_name='gemini-1.0-pro',\n",
        "                                  generation_config=generation_config,\n",
        "                                  safety_settings=safety_settings,)"
      ]
    },
    {
      "cell_type": "code",
      "execution_count": null,
      "metadata": {
        "id": "lrJhdTRe48wS"
      },
      "outputs": [],
      "source": [
        "prompt_resumir_artigos = \"Resuma de forma coesa, mantendo as seções e divisões, mantendo os padrões de escrita do seguinte texto:\""
      ]
    },
    {
      "cell_type": "code",
      "execution_count": null,
      "metadata": {
        "id": "diVgWtbLv4T-"
      },
      "outputs": [],
      "source": [
        "titulo = \"\"\n",
        "texto = \"\"\n",
        "documents = []\n",
        "for link in links_livros:\n",
        "  titulo, texto = extrair_dados(link)\n",
        "  if \"Sagarana\" not in titulo:\n",
        "    response = model.generate_content(prompt_resumir_artigos + texto)\n",
        "    #Listagem de documentos que serão buscados\n",
        "    try:\n",
        "      DOCUMENT = {\n",
        "        \"Título\": titulo,\n",
        "        \"Conteúdo\": response.text\n",
        "      }\n",
        "\n",
        "      documents.append(DOCUMENT)\n",
        "    except:\n",
        "      pass\n"
      ]
    },
    {
      "cell_type": "markdown",
      "metadata": {
        "id": "bID5f7qkpzCF"
      },
      "source": [
        "Criação de df\n",
        "\n",
        "```\n",
        "# Aqui todos os livvro estão carregados para um data frame\n",
        "```\n",
        "\n"
      ]
    },
    {
      "cell_type": "code",
      "execution_count": null,
      "metadata": {
        "id": "XgDJdVBx1mlg"
      },
      "outputs": [],
      "source": [
        "df = pd.DataFrame(documents)\n",
        "df.columns = [\"Titulo\", \"Conteudo\"]"
      ]
    },
    {
      "cell_type": "markdown",
      "metadata": {
        "id": "T_Q5-Oo3pRcu"
      },
      "source": [
        "Início etapa de  embbeding\n",
        "\n",
        "```\n",
        "# Aplicação de função para os registros contidos no df e adicionando ao embedding\n",
        "```\n",
        "\n"
      ]
    },
    {
      "cell_type": "code",
      "execution_count": null,
      "metadata": {
        "id": "b2HFc9Dv1qLO"
      },
      "outputs": [],
      "source": [
        "def embed_fn(title, text):\n",
        "  return genai.embed_content(model=\"models/embedding-001\",\n",
        "                                 content=text,\n",
        "                                 title=title,\n",
        "                                 task_type=\"RETRIEVAL_DOCUMENT\")[\"embedding\"]"
      ]
    },
    {
      "cell_type": "markdown",
      "metadata": {
        "id": "hI1IbRfoqPZo"
      },
      "source": [
        "Finalização de DF de Embeddings"
      ]
    },
    {
      "cell_type": "code",
      "execution_count": null,
      "metadata": {
        "id": "NIc9BSJl1rv7"
      },
      "outputs": [],
      "source": [
        "df[\"Embeddings\"] = df.apply(lambda row: embed_fn(row[\"Titulo\"], row[\"Conteudo\"]), axis=1)"
      ]
    },
    {
      "cell_type": "markdown",
      "metadata": {
        "id": "xnmLmWmcuIKE"
      },
      "source": [
        "Extração de audio do vídeo\n",
        "Próximos passos são implementar uma lógica para extrair dados do vídeo como descrição do local e do apresentador para compor o documento"
      ]
    },
    {
      "cell_type": "code",
      "execution_count": null,
      "metadata": {
        "id": "5t9n7GKwFtPY"
      },
      "outputs": [],
      "source": [
        "from moviepy.editor import VideoFileClip\n",
        "\n",
        "# Define the input video file and output audio file\n",
        "#mp4_file = \"/content/drive/MyDrive/teste video.mp4\"\n",
        "mp3_file = \"uploads\\\\teste audio2.mp3\"\n",
        "\n",
        "# Load the video clip\n",
        "video_clip = VideoFileClip(mp4_file)\n",
        "\n",
        "# Extract the audio from the video clip\n",
        "audio_clip = video_clip.audio\n",
        "\n",
        "# Write the audio to a separate file\n",
        "audio_clip.write_audiofile(mp3_file)\n",
        "\n",
        "# Close the video and audio clips\n",
        "audio_clip.close()\n",
        "video_clip.close()\n",
        "\n",
        "print(\"Audio extraction successful!\")"
      ]
    },
    {
      "cell_type": "code",
      "execution_count": null,
      "metadata": {
        "id": "AmHMhZmUQtYL"
      },
      "outputs": [],
      "source": [
        "def gerar_e_buscar_consulta(consulta, base, model):\n",
        "  embedding_da_consulta = genai.embed_content(\n",
        "      model=\"models/embedding-001\",\n",
        "      content=consulta,\n",
        "      task_type=\"RETRIEVAL_QUERY\")[\"embedding\"]\n",
        "\n",
        "  produtos_escalares = np.dot(np.stack(df[\"Embeddings\"]), embedding_da_consulta)\n",
        "\n",
        "  indice = np.argmax(produtos_escalares)\n",
        "  return df.iloc[indice][\"Conteudo\"]"
      ]
    },
    {
      "cell_type": "markdown",
      "metadata": {
        "id": "Qvg_FkwavAVi"
      },
      "source": [
        "O prompt abaixo baseado em Chain of thoughts tem a função de nortear a geração de conteudo com base no texto extraído do vídeo\n",
        "\n",
        "```\n",
        "# Há a trasncrição, e complementação com uma resenha e compreensão além das expectativas para a contação de histórias. servirá de insumo para criação de uma recomendação de livro com base no nosso universo citado anteriormente\n",
        "```\n",
        "\n"
      ]
    },
    {
      "cell_type": "code",
      "execution_count": null,
      "metadata": {
        "id": "jqC-oQSCJTHz"
      },
      "outputs": [],
      "source": [
        "prompt_master = \"\"\"Sobre o audio, ele será utilizado para compor um conto de um livro que estou escrevendo\n",
        "Quero que vc gere um titulo legal do texto\n",
        "É imprescindível que os dados do modelo de escrita sejam seguidos, porém ignore o conteúdo, é apenas para exemplo. não o use.\n",
        "Geralemnte os pontos que vc deve seguir são os markdowns, então siga neste esquema\n",
        "Faça a transcrição exata do audio de forma textual como se fosse um texto corrido, sem as marcações de tempo na etapa ### Conto\n",
        "Crie a história com todas as informações que não estão contidas no audio\n",
        "\n",
        "\n",
        "siga este exemplo abaixo de modelo de escrita, o conteudo do exemplo não é importante, apenas o formato:\n",
        "\n",
        "## O Menino que Comia Demais: Uma Parábola Nordestina sobre Gula e Destino\n",
        "\n",
        "**RESUMO**\n",
        "\n",
        "Este capítulo explora o conto \"O Menino que Comia Demais\", escrito por Ariano Suassuna em 1997. A narrativa, com forte influência da tradição oral nordestina, apresenta a história de um menino guloso que, ao longo da vida, sofre as consequências de seus excessos. A história serve como uma parábola, abordando temas como gula, destino e a inevitabilidade das consequências de nossas ações. O capítulo analisa os elementos simbólicos presentes no conto, sua relação com a cultura popular nordestina e as reflexões que a narrativa propõe.\n",
        "\n",
        "**Palavras-chave:** Literatura Nordestina, Parábola, Gula, Destino.\n",
        "\n",
        "**ABSTRACT**\n",
        "\n",
        "This chapter explores the tale \"The Boy Who Ate Too Much,\" written by Ariano Suassuna in 1997. The narrative, heavily influenced by the Northeastern oral tradition, presents the story of a greedy boy who, throughout his life, suffers the consequences of his excesses. The story serves as a parable, addressing themes such as gluttony, destiny, and the inevitability of the consequences of our actions. The chapter analyzes the symbolic elements present in the tale, its relationship with popular Northeastern culture, and the reflections that the narrative proposes.\n",
        "\n",
        "**Keywords:** , Northeastern Literature, Parable, Gluttony, Destiny.\n",
        "\n",
        "### Conto\n",
        "\n",
        "\"Um, dois, três, testando...\n",
        "\n",
        "Era uma vez um imbatível, um menino que comia demais.\n",
        "Ele gostava de caça e mulanbê. Começou a ver o mundo e levou (o hábito de comer demais) para a vida inteira.\n",
        "Um dia, um caminhão veio e atropelou o próprio menino. E quando (o caminhão o engoliu), na boca dele, ele portava um fino.\"\n",
        "\n",
        "\n",
        "\n",
        "###  A GULA COMO ELEMENTO CENTRAL\n",
        "\n",
        "O protagonista da história, cujo nome não é revelado, é apresentado como um \"imbatível\" na arte de comer. Seu apetite voraz o leva a devorar quantidades absurdas de comida, desde caça e peixes a frutas como mulanbê. Essa gula desmedida se torna o elemento central da narrativa, guiando o destino do personagem.\n",
        "\n",
        "###  A VIAGEM E O ENCONTRO COM O CAMINHÃO\n",
        "\n",
        "A história toma um rumo inesperado quando o menino, já adulto, se torna um viajante. Em suas andanças pelo mundo, ele se depara com um caminhão que, em uma reviravolta simbólica, o atropela e o engole. O caminhão, representando a inevitabilidade do destino e as consequências dos excessos, consome o protagonista, assim como ele havia consumido tudo ao seu redor durante a vida.\n",
        "\n",
        "### O FINO COMO SÍMBOLO DE ESPERANÇA\n",
        "\n",
        "Mesmo diante da morte iminente, o conto apresenta um elemento de esperança. O fino que o personagem carrega consigo representa a possibilidade de redenção, a chance de superar as limitações da própria natureza. O destino do fino, contudo, fica em aberto, deixando espaço para a interpretação do leitor e a reflexão sobre o potencial de transformação humana.\n",
        "\n",
        "### REFLEXÕES SOBRE A CONDIÇÃO HUMANA\n",
        "\n",
        "\"O Menino que Comia Demais\"  vai além de uma simples história sobre gula. A narrativa funciona como uma parábola, convidando o leitor a refletir sobre temas como a relação do homem com seus desejos, a importância do autocontrole e a inevitabilidade das consequências de nossos atos. A história também aborda a questão do destino e a possibilidade de transformação, mesmo diante de um futuro aparentemente determinado.\n",
        "\n",
        "### A INFLUÊNCIA DA CULTURA NORDESTINA\n",
        "\n",
        "A narrativa apresenta diversos elementos característicos da cultura popular nordestina. A linguagem simples e direta, o uso de expressões regionais e a presença de elementos do folclore, como a figura do caminhoneiro, contribuem para a construção de uma atmosfera familiar e envolvente para o leitor nordestino. A história também reflete valores e crenças presentes na região, como a importância da família, a força do destino e a presença do divino no cotidiano.\n",
        "\n",
        "### CONCLUSÃO\n",
        "\n",
        "\"O Menino que Comia Demais\" é uma narrativa curta, mas repleta de significados. A história, com sua linguagem simples e elementos simbólicos, transmite reflexões profundas sobre a condição humana e as consequências de nossas escolhas. A influência da cultura popular nordestina enriquece a narrativa, tornando-a uma obra representativa da produção literária de Ariano Suassuna e um convite à reflexão sobre a vida e o destino.\n",
        "\"\"\""
      ]
    },
    {
      "cell_type": "markdown",
      "metadata": {
        "id": "55eaw53NwUlG"
      },
      "source": [
        "Utilizado modelo 1.5 para trascrever o audio em texto. Aqui é gerado a história Autoral"
      ]
    },
    {
      "cell_type": "code",
      "execution_count": null,
      "metadata": {
        "id": "YaHhlJSNJeoV"
      },
      "outputs": [],
      "source": [
        "from pathlib import Path\n",
        "import hashlib\n",
        "import google.generativeai as genai\n",
        "\n",
        "# Set up the model\n",
        "generation_config = {\n",
        "  \"temperature\": 0.3,\n",
        "  \"top_p\": 0.95,\n",
        "  \"top_k\": 0,\n",
        "  \"max_output_tokens\": 8192,\n",
        "}\n",
        "\n",
        "safety_settings = [\n",
        "  {\n",
        "    \"category\": \"HARM_CATEGORY_HARASSMENT\",\n",
        "    \"threshold\": \"BLOCK_MEDIUM_AND_ABOVE\"\n",
        "  },\n",
        "  {\n",
        "    \"category\": \"HARM_CATEGORY_HATE_SPEECH\",\n",
        "    \"threshold\": \"BLOCK_MEDIUM_AND_ABOVE\"\n",
        "  },\n",
        "  {\n",
        "    \"category\": \"HARM_CATEGORY_SEXUALLY_EXPLICIT\",\n",
        "    \"threshold\": \"BLOCK_MEDIUM_AND_ABOVE\"\n",
        "  },\n",
        "  {\n",
        "    \"category\": \"HARM_CATEGORY_DANGEROUS_CONTENT\",\n",
        "    \"threshold\": \"BLOCK_MEDIUM_AND_ABOVE\"\n",
        "  },\n",
        "]\n",
        "\n",
        "model = genai.GenerativeModel(model_name=\"gemini-1.5-pro-latest\",\n",
        "                              generation_config=generation_config,\n",
        "                              safety_settings=safety_settings)\n",
        "\n",
        "prompt_parts = [\n",
        "  genai.upload_file(mp3_file),\n",
        "  prompt_master,\n",
        "]\n",
        "\n",
        "response = model.generate_content(prompt_parts)\n",
        "historia_autoral = response.text\n",
        "print(historia_autoral)"
      ]
    },
    {
      "cell_type": "markdown",
      "metadata": {
        "id": "TzT-pyNJubK6"
      },
      "source": [
        "Configuração específica para o prompt a seguir"
      ]
    },
    {
      "cell_type": "code",
      "execution_count": null,
      "metadata": {
        "id": "lSFdSn7O1xQM"
      },
      "outputs": [],
      "source": [
        "generation_config = {\n",
        "  \"temperature\": 0.4,\n",
        "  \"candidate_count\": 1\n",
        "}"
      ]
    },
    {
      "cell_type": "markdown",
      "metadata": {
        "id": "ieEYc-1nwq0o"
      },
      "source": [
        "Faz a seleção do livro com base na história contada e traz a resenha da mesma"
      ]
    },
    {
      "cell_type": "code",
      "execution_count": null,
      "metadata": {
        "id": "mkiZMoqX1vtA"
      },
      "outputs": [],
      "source": [
        "consulta = response.text\n",
        "trecho = gerar_e_buscar_consulta(consulta, df, model)\n",
        "model_3 = genai.GenerativeModel(\"gemini-1.0-pro\",\n",
        "                                generation_config=generation_config)\n",
        "response = model_3.generate_content(\"Faça o resumo de forma descritiva do conteudo demosntrado a seguire: \" + trecho)\n",
        "trecho = response.text\n",
        "print(trecho)"
      ]
    },
    {
      "cell_type": "markdown",
      "metadata": {
        "id": "ac_gwKdHLyND"
      },
      "source": [
        "Cria a Resenha e o paralelo com algum do livro da fonte https://www.todamateria.com.br/\n",
        "\n",
        "```\n",
        "# Uso de few shot learning\n",
        "```\n",
        "\n"
      ]
    },
    {
      "cell_type": "code",
      "execution_count": null,
      "metadata": {
        "id": "xdJREaIv1zoC"
      },
      "outputs": [],
      "source": [
        "exemplos = \"\"\"Paralelos entre \"Toda vez que eu viajava pela estrada de ouro fino\" e \"Terra Sonâmbula\":\n",
        "Busca por identidade: Tanto a menina da estrada quanto Muidinga em \"Terra Sonâmbula\" estão em busca de sua verdadeira identidade.\n",
        "Caminhada: Ambas as histórias envolvem jornadas a pé, simbolizando a busca por autodescoberta e compreensão.\n",
        "Acompanhamento: A menina segue o viajante, enquanto Tuahir acompanha Muidinga em sua jornada.\n",
        "Música: O berrante na história da estrada ecoa a música que acompanha Muidinga e Tuahir em \"Terra Sonâmbula\", criando uma atmosfera de esperança e orientação.\n",
        "-----------------------------------\n",
        "Paralelos entre \"Na trilha dos sonhos perdidos\" e \"O Pintor de Sonhos\":\n",
        "Exploração da imaginação: Tanto o protagonista de \"Na trilha dos sonhos perdidos\" quanto o pintor em \"O Pintor de Sonhos\" estão em uma jornada para explorar os limites da imaginação e da criatividade.\n",
        "Viagem pelo desconhecido: Ambas as histórias envolvem viagens através de paisagens surrealistas e fantásticas, refletindo a jornada interior dos personagens em busca de inspiração e autoconhecimento.\n",
        "Companhia na jornada: O protagonista é acompanhado por um gato misterioso em sua jornada, enquanto o pintor tem seu cavalete e pincéis como companheiros constantes, simbolizando a busca pela expressão artística e pela verdade interior.\n",
        "Música das cores: As cores vibrantes descritas na narrativa da trilha dos sonhos perdidos ecoam as pinceladas de cores vivas e intensas usadas pelo pintor em suas obras, criando uma atmosfera de magia e possibilidades infinitas.\n",
        "\"\"\"\n",
        "prompt = f\"{exemplos}\\nTrace paralelos, procure referencias, similaridades, morais, e ligações da historia em {consulta}  e o conteudo encontrado em  {trecho} de maneira ludica e em texto corrido. tente se ater ao que realmente foi contado na historia contida em {consulta}, tente traçar situações qeu possam se encaixar, mas sem fugir do contexto contado nas duas historias. É importante saber que é focado em crianças, portanto manter o resultado dentro de um filtro infantil\"\n",
        "\n",
        "model_2 = genai.GenerativeModel(\"gemini-1.0-pro\",\n",
        "                                generation_config=generation_config,\n",
        "                                safety_settings = safety_settings)\n",
        "response = model_2.generate_content(prompt)\n",
        "analise_paralelos = response.text\n",
        "print(analise_paralelos)"
      ]
    },
    {
      "cell_type": "markdown",
      "metadata": {
        "id": "qbqoalkcw5tp"
      },
      "source": [
        "Formatação de conteúdo para exeibição"
      ]
    },
    {
      "cell_type": "code",
      "execution_count": null,
      "metadata": {
        "id": "PlPgV2XBfL3S"
      },
      "outputs": [],
      "source": [
        "import markdown\n",
        "from IPython.display import HTML\n",
        "def markdown_para_html(texto_markdown, nome_arquivo):\n",
        "    \"\"\"Converte um texto Markdown para HTML e salva em um arquivo.\"\"\"\n",
        "\n",
        "    html = markdown.markdown(texto_markdown)\n",
        "\n",
        "    with open(nome_arquivo, \"w\", encoding=\"utf-8\") as arquivo:\n",
        "        arquivo.write(html)\n",
        "    display(HTML(html))\n",
        "\n",
        "texto_mark = f\"\"\"<br /><br />\n",
        "<h1>Novo conto</h1>\n",
        "<br />\n",
        "{historia_autoral}\n",
        "<br /><br /><br />\n",
        "<h1>Obra famosa sugerida</h1>\n",
        "<br />\n",
        "{trecho}\n",
        "<br /><br /><br />\n",
        "<h1>Paralelos entre as Histórias</h1>\n",
        "<br />\n",
        "{analise_paralelos}\"\"\"\n",
        "\n"
      ]
    },
    {
      "cell_type": "markdown",
      "metadata": {
        "id": "m0ISFPVmxA8j"
      },
      "source": [
        "Apresentação do Conteúdo"
      ]
    },
    {
      "cell_type": "code",
      "execution_count": null,
      "metadata": {
        "id": "Z5ouAgaZTcP3"
      },
      "outputs": [],
      "source": [
        "import datetime\n",
        "\n",
        "data_hora = datetime.datetime.now().strftime(\"%Y-%m-%d_%H-%M-%S\")\n",
        "nome_arquivo = f\"ReviewLer_{data_hora}.html\"\n",
        "markdown_para_html(texto_mark, nome_arquivo)"
      ]
    }
  ],
  "metadata": {
    "colab": {
      "provenance": []
    },
    "kernelspec": {
      "display_name": "Python 3",
      "name": "python3"
    },
    "language_info": {
      "codemirror_mode": {
        "name": "ipython",
        "version": 3
      },
      "file_extension": ".py",
      "mimetype": "text/x-python",
      "name": "python",
      "nbconvert_exporter": "python",
      "pygments_lexer": "ipython3",
      "version": "3.10.8"
    }
  },
  "nbformat": 4,
  "nbformat_minor": 0
}
